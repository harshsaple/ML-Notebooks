{
 "cells": [
  {
   "cell_type": "code",
   "execution_count": 1,
   "metadata": {},
   "outputs": [],
   "source": [
    "import numpy as np \n",
    "from numpy import asarray\n",
    "import pandas as pd \n",
    "import tensorflow as tf\n",
    "import matplotlib.pyplot as plt\n",
    "%matplotlib inline\n",
    "import seaborn as sns\n",
    "\n",
    "from sklearn.feature_extraction.text import CountVectorizer\n",
    "from keras.preprocessing.text import Tokenizer\n",
    "from keras.preprocessing.sequence import pad_sequences\n",
    "from keras.models import Sequential , load_model\n",
    "from keras.layers import Dense, Embedding, LSTM\n",
    "from keras.layers import GlobalMaxPooling1D\n",
    "from keras.layers.convolutional import Conv1D\n",
    "from keras.layers.core import Activation, Dropout, Dense\n",
    "from sklearn.model_selection import train_test_split\n",
    "from keras.callbacks import ModelCheckpoint , EarlyStopping\n",
    "from keras.utils.np_utils import to_categorical\n",
    "import re"
   ]
  },
  {
   "cell_type": "code",
   "execution_count": 2,
   "metadata": {},
   "outputs": [
    {
     "data": {
      "text/html": [
       "<div>\n",
       "<style scoped>\n",
       "    .dataframe tbody tr th:only-of-type {\n",
       "        vertical-align: middle;\n",
       "    }\n",
       "\n",
       "    .dataframe tbody tr th {\n",
       "        vertical-align: top;\n",
       "    }\n",
       "\n",
       "    .dataframe thead th {\n",
       "        text-align: right;\n",
       "    }\n",
       "</style>\n",
       "<table border=\"1\" class=\"dataframe\">\n",
       "  <thead>\n",
       "    <tr style=\"text-align: right;\">\n",
       "      <th></th>\n",
       "      <th>Sno</th>\n",
       "      <th>Date</th>\n",
       "      <th>Covid</th>\n",
       "      <th>Sentiment</th>\n",
       "      <th>Description</th>\n",
       "    </tr>\n",
       "  </thead>\n",
       "  <tbody>\n",
       "    <tr>\n",
       "      <th>0</th>\n",
       "      <td>0</td>\n",
       "      <td>2020-04-29</td>\n",
       "      <td>1</td>\n",
       "      <td>0</td>\n",
       "      <td>Rajasthan on Wednesday reported 74 new coronav...</td>\n",
       "    </tr>\n",
       "    <tr>\n",
       "      <th>1</th>\n",
       "      <td>1</td>\n",
       "      <td>2020-04-29</td>\n",
       "      <td>1</td>\n",
       "      <td>0</td>\n",
       "      <td>The total number of coronavirus cases in Delhi...</td>\n",
       "    </tr>\n",
       "    <tr>\n",
       "      <th>2</th>\n",
       "      <td>2</td>\n",
       "      <td>2020-04-30</td>\n",
       "      <td>0</td>\n",
       "      <td>1</td>\n",
       "      <td>Condoling the demise of actor Rishi Kapoor, PM...</td>\n",
       "    </tr>\n",
       "    <tr>\n",
       "      <th>3</th>\n",
       "      <td>3</td>\n",
       "      <td>2020-04-30</td>\n",
       "      <td>0</td>\n",
       "      <td>0</td>\n",
       "      <td>Congress leader Rahul Gandhi condoled Rishi Ka...</td>\n",
       "    </tr>\n",
       "    <tr>\n",
       "      <th>4</th>\n",
       "      <td>4</td>\n",
       "      <td>2020-04-30</td>\n",
       "      <td>1</td>\n",
       "      <td>1</td>\n",
       "      <td>As a sign of respect for healthcare profession...</td>\n",
       "    </tr>\n",
       "    <tr>\n",
       "      <th>...</th>\n",
       "      <td>...</td>\n",
       "      <td>...</td>\n",
       "      <td>...</td>\n",
       "      <td>...</td>\n",
       "      <td>...</td>\n",
       "    </tr>\n",
       "    <tr>\n",
       "      <th>4067</th>\n",
       "      <td>4067</td>\n",
       "      <td>2020-03-01</td>\n",
       "      <td>0</td>\n",
       "      <td>0</td>\n",
       "      <td>Adhering to a policy of \"zero tolerance\" for c...</td>\n",
       "    </tr>\n",
       "    <tr>\n",
       "      <th>4068</th>\n",
       "      <td>4068</td>\n",
       "      <td>2020-03-01</td>\n",
       "      <td>0</td>\n",
       "      <td>1</td>\n",
       "      <td>While addressing a rally in South Carolina, US...</td>\n",
       "    </tr>\n",
       "    <tr>\n",
       "      <th>4069</th>\n",
       "      <td>4069</td>\n",
       "      <td>2020-03-01</td>\n",
       "      <td>0</td>\n",
       "      <td>0</td>\n",
       "      <td>After AAP government granted sanction to Delhi...</td>\n",
       "    </tr>\n",
       "    <tr>\n",
       "      <th>4070</th>\n",
       "      <td>4070</td>\n",
       "      <td>2020-03-01</td>\n",
       "      <td>0</td>\n",
       "      <td>0</td>\n",
       "      <td>Kamil Siedcynski, a Polish student at Kolkata'...</td>\n",
       "    </tr>\n",
       "    <tr>\n",
       "      <th>4071</th>\n",
       "      <td>4071</td>\n",
       "      <td>2020-03-01</td>\n",
       "      <td>0</td>\n",
       "      <td>0</td>\n",
       "      <td>Police have lodged 22 FIRs against anti-CAA pr...</td>\n",
       "    </tr>\n",
       "  </tbody>\n",
       "</table>\n",
       "<p>4072 rows × 5 columns</p>\n",
       "</div>"
      ],
      "text/plain": [
       "       Sno        Date  Covid  Sentiment  \\\n",
       "0        0  2020-04-29      1          0   \n",
       "1        1  2020-04-29      1          0   \n",
       "2        2  2020-04-30      0          1   \n",
       "3        3  2020-04-30      0          0   \n",
       "4        4  2020-04-30      1          1   \n",
       "...    ...         ...    ...        ...   \n",
       "4067  4067  2020-03-01      0          0   \n",
       "4068  4068  2020-03-01      0          1   \n",
       "4069  4069  2020-03-01      0          0   \n",
       "4070  4070  2020-03-01      0          0   \n",
       "4071  4071  2020-03-01      0          0   \n",
       "\n",
       "                                            Description  \n",
       "0     Rajasthan on Wednesday reported 74 new coronav...  \n",
       "1     The total number of coronavirus cases in Delhi...  \n",
       "2     Condoling the demise of actor Rishi Kapoor, PM...  \n",
       "3     Congress leader Rahul Gandhi condoled Rishi Ka...  \n",
       "4     As a sign of respect for healthcare profession...  \n",
       "...                                                 ...  \n",
       "4067  Adhering to a policy of \"zero tolerance\" for c...  \n",
       "4068  While addressing a rally in South Carolina, US...  \n",
       "4069  After AAP government granted sanction to Delhi...  \n",
       "4070  Kamil Siedcynski, a Polish student at Kolkata'...  \n",
       "4071  Police have lodged 22 FIRs against anti-CAA pr...  \n",
       "\n",
       "[4072 rows x 5 columns]"
      ]
     },
     "execution_count": 2,
     "metadata": {},
     "output_type": "execute_result"
    }
   ],
   "source": [
    "data = pd.read_csv('raw_data.csv')\n",
    "data = data.drop(['Image','Source','Headline'] , axis = 1)\n",
    "data\n",
    "#1 if related , 0 if not related"
   ]
  },
  {
   "cell_type": "code",
   "execution_count": 3,
   "metadata": {},
   "outputs": [
    {
     "data": {
      "text/html": [
       "<div>\n",
       "<style scoped>\n",
       "    .dataframe tbody tr th:only-of-type {\n",
       "        vertical-align: middle;\n",
       "    }\n",
       "\n",
       "    .dataframe tbody tr th {\n",
       "        vertical-align: top;\n",
       "    }\n",
       "\n",
       "    .dataframe thead th {\n",
       "        text-align: right;\n",
       "    }\n",
       "</style>\n",
       "<table border=\"1\" class=\"dataframe\">\n",
       "  <thead>\n",
       "    <tr style=\"text-align: right;\">\n",
       "      <th></th>\n",
       "      <th>Sno</th>\n",
       "      <th>Date</th>\n",
       "      <th>Covid</th>\n",
       "      <th>Sentiment</th>\n",
       "      <th>Description</th>\n",
       "    </tr>\n",
       "    <tr>\n",
       "      <th>Snum</th>\n",
       "      <th></th>\n",
       "      <th></th>\n",
       "      <th></th>\n",
       "      <th></th>\n",
       "      <th></th>\n",
       "    </tr>\n",
       "  </thead>\n",
       "  <tbody>\n",
       "    <tr>\n",
       "      <th>0</th>\n",
       "      <td>0</td>\n",
       "      <td>2020-04-29</td>\n",
       "      <td>1</td>\n",
       "      <td>0</td>\n",
       "      <td>Rajasthan on Wednesday reported 74 new coronav...</td>\n",
       "    </tr>\n",
       "    <tr>\n",
       "      <th>1</th>\n",
       "      <td>1</td>\n",
       "      <td>2020-04-29</td>\n",
       "      <td>1</td>\n",
       "      <td>0</td>\n",
       "      <td>The total number of coronavirus cases in Delhi...</td>\n",
       "    </tr>\n",
       "    <tr>\n",
       "      <th>2</th>\n",
       "      <td>4</td>\n",
       "      <td>2020-04-30</td>\n",
       "      <td>1</td>\n",
       "      <td>1</td>\n",
       "      <td>As a sign of respect for healthcare profession...</td>\n",
       "    </tr>\n",
       "    <tr>\n",
       "      <th>3</th>\n",
       "      <td>5</td>\n",
       "      <td>2020-04-30</td>\n",
       "      <td>1</td>\n",
       "      <td>1</td>\n",
       "      <td>Madhya Pradesh Chief Minister Shivraj Singh Ch...</td>\n",
       "    </tr>\n",
       "    <tr>\n",
       "      <th>4</th>\n",
       "      <td>6</td>\n",
       "      <td>2020-04-30</td>\n",
       "      <td>1</td>\n",
       "      <td>1</td>\n",
       "      <td>J&amp;K administration has brought back 6,355 labo...</td>\n",
       "    </tr>\n",
       "    <tr>\n",
       "      <th>...</th>\n",
       "      <td>...</td>\n",
       "      <td>...</td>\n",
       "      <td>...</td>\n",
       "      <td>...</td>\n",
       "      <td>...</td>\n",
       "    </tr>\n",
       "    <tr>\n",
       "      <th>3240</th>\n",
       "      <td>3968</td>\n",
       "      <td>2020-03-03</td>\n",
       "      <td>1</td>\n",
       "      <td>0</td>\n",
       "      <td>Uttar Pradesh CM Yogi Adityanath has said that...</td>\n",
       "    </tr>\n",
       "    <tr>\n",
       "      <th>3241</th>\n",
       "      <td>3970</td>\n",
       "      <td>2020-03-02</td>\n",
       "      <td>1</td>\n",
       "      <td>0</td>\n",
       "      <td>An Italian tourist has tested positive for cor...</td>\n",
       "    </tr>\n",
       "    <tr>\n",
       "      <th>3242</th>\n",
       "      <td>3993</td>\n",
       "      <td>2020-03-02</td>\n",
       "      <td>1</td>\n",
       "      <td>0</td>\n",
       "      <td>Two positive cases of coronavirus have been co...</td>\n",
       "    </tr>\n",
       "    <tr>\n",
       "      <th>3243</th>\n",
       "      <td>3995</td>\n",
       "      <td>2020-03-02</td>\n",
       "      <td>1</td>\n",
       "      <td>1</td>\n",
       "      <td>Health Minister Harsh Vardhan on Monday said t...</td>\n",
       "    </tr>\n",
       "    <tr>\n",
       "      <th>3244</th>\n",
       "      <td>3997</td>\n",
       "      <td>2020-03-02</td>\n",
       "      <td>1</td>\n",
       "      <td>1</td>\n",
       "      <td>Health Minister Harsh Vardhan on Monday appeal...</td>\n",
       "    </tr>\n",
       "  </tbody>\n",
       "</table>\n",
       "<p>3245 rows × 5 columns</p>\n",
       "</div>"
      ],
      "text/plain": [
       "       Sno        Date  Covid  Sentiment  \\\n",
       "Snum                                       \n",
       "0        0  2020-04-29      1          0   \n",
       "1        1  2020-04-29      1          0   \n",
       "2        4  2020-04-30      1          1   \n",
       "3        5  2020-04-30      1          1   \n",
       "4        6  2020-04-30      1          1   \n",
       "...    ...         ...    ...        ...   \n",
       "3240  3968  2020-03-03      1          0   \n",
       "3241  3970  2020-03-02      1          0   \n",
       "3242  3993  2020-03-02      1          0   \n",
       "3243  3995  2020-03-02      1          1   \n",
       "3244  3997  2020-03-02      1          1   \n",
       "\n",
       "                                            Description  \n",
       "Snum                                                     \n",
       "0     Rajasthan on Wednesday reported 74 new coronav...  \n",
       "1     The total number of coronavirus cases in Delhi...  \n",
       "2     As a sign of respect for healthcare profession...  \n",
       "3     Madhya Pradesh Chief Minister Shivraj Singh Ch...  \n",
       "4     J&K administration has brought back 6,355 labo...  \n",
       "...                                                 ...  \n",
       "3240  Uttar Pradesh CM Yogi Adityanath has said that...  \n",
       "3241  An Italian tourist has tested positive for cor...  \n",
       "3242  Two positive cases of coronavirus have been co...  \n",
       "3243  Health Minister Harsh Vardhan on Monday said t...  \n",
       "3244  Health Minister Harsh Vardhan on Monday appeal...  \n",
       "\n",
       "[3245 rows x 5 columns]"
      ]
     },
     "execution_count": 3,
     "metadata": {},
     "output_type": "execute_result"
    }
   ],
   "source": [
    "#Check Whether News is for Covid or Not! Add to new Dataframe\n",
    "covid_data = data[(data['Covid']==1)]\n",
    "covid_data.insert(0,'Snum' , range(0,0+len(covid_data)))\n",
    "covid_data = covid_data.set_index('Snum')\n",
    "covid_data"
   ]
  },
  {
   "cell_type": "code",
   "execution_count": 4,
   "metadata": {},
   "outputs": [
    {
     "data": {
      "text/plain": [
       "'Coronavirus cases in the Nashik district of Maharashtra have risen to 276 after 71 people tested positive, officials have stated. The fresh cases, most of which are from Malegaon, included six police personnel and three children aged three months, 5 years and 11 years respectively. The death toll in Nashik district stands at 12.'"
      ]
     },
     "execution_count": 4,
     "metadata": {},
     "output_type": "execute_result"
    }
   ],
   "source": [
    "#Exploring the Description of Some News\n",
    "covid_data[\"Description\"][7]"
   ]
  },
  {
   "cell_type": "markdown",
   "metadata": {},
   "source": [
    "# We have 3245 data of Covid Related News"
   ]
  },
  {
   "cell_type": "code",
   "execution_count": 5,
   "metadata": {},
   "outputs": [
    {
     "data": {
      "text/plain": [
       "<matplotlib.axes._subplots.AxesSubplot at 0x7f17203000b8>"
      ]
     },
     "execution_count": 5,
     "metadata": {},
     "output_type": "execute_result"
    },
    {
     "data": {
      "image/png": "[encoded data removed]",
      "text/plain": [
       "<Figure size 432x288 with 1 Axes>"
      ]
     },
     "metadata": {
      "needs_background": "light"
     },
     "output_type": "display_data"
    }
   ],
   "source": [
    "sns.countplot(x = 'Sentiment' , data = covid_data)\n",
    "#1 is positive , 0 is negative"
   ]
  },
  {
   "cell_type": "markdown",
   "metadata": {},
   "source": [
    "# Preprocessing"
   ]
  },
  {
   "cell_type": "code",
   "execution_count": 6,
   "metadata": {},
   "outputs": [],
   "source": [
    "def preprocess_text(sen):\n",
    "    # Removing html tags\n",
    "    sentence = remove_tags(sen)\n",
    "\n",
    "    # Remove punctuations and numbers\n",
    "    sentence = re.sub('[^a-zA-Z]', ' ', sentence)\n",
    "\n",
    "    # Single character removal\n",
    "    sentence = re.sub(r\"\\s+[a-zA-Z]\\s+\", ' ', sentence)\n",
    "\n",
    "    # Removing multiple spaces\n",
    "    sentence = re.sub(r'\\s+', ' ', sentence)\n",
    "\n",
    "    return sentence"
   ]
  },
  {
   "cell_type": "code",
   "execution_count": 7,
   "metadata": {},
   "outputs": [],
   "source": [
    "TAG_RE = re.compile(r'<[^>]+>')\n",
    "\n",
    "def remove_tags(text):\n",
    "    return TAG_RE.sub('', text)\n"
   ]
  },
  {
   "cell_type": "code",
   "execution_count": 8,
   "metadata": {},
   "outputs": [],
   "source": [
    "descript = []\n",
    "sentences = list(covid_data['Description'])\n",
    "for sen in sentences:\n",
    "    descript.append(preprocess_text(sen))"
   ]
  },
  {
   "cell_type": "code",
   "execution_count": 9,
   "metadata": {},
   "outputs": [
    {
     "data": {
      "text/plain": [
       "'Coronavirus cases in the Nashik district of Maharashtra have risen to after people tested positive officials have stated The fresh cases most of which are from Malegaon included six police personnel and three children aged three months years and years respectively The death toll in Nashik district stands at '"
      ]
     },
     "execution_count": 9,
     "metadata": {},
     "output_type": "execute_result"
    }
   ],
   "source": [
    "descript[7]"
   ]
  },
  {
   "cell_type": "code",
   "execution_count": 10,
   "metadata": {},
   "outputs": [],
   "source": [
    "#80% for training set and 20% testing set\n",
    "X_train , X_test, y_train , y_test = train_test_split(descript , covid_data['Sentiment'],test_size=0.20,random_state=42)"
   ]
  },
  {
   "cell_type": "markdown",
   "metadata": {},
   "source": [
    "# Preparing the Embedding Layer"
   ]
  },
  {
   "cell_type": "code",
   "execution_count": 11,
   "metadata": {},
   "outputs": [],
   "source": [
    "tokenizer = Tokenizer(num_words=5000)\n",
    "tokenizer.fit_on_texts(X_train)\n",
    "\n",
    "X_train = tokenizer.texts_to_sequences(X_train)\n",
    "X_test = tokenizer.texts_to_sequences(X_test)"
   ]
  },
  {
   "cell_type": "code",
   "execution_count": 12,
   "metadata": {},
   "outputs": [],
   "source": [
    "vocab_size = len(tokenizer.word_index) + 1\n",
    "\n",
    "maxlen = 100\n",
    "\n",
    "X_train = pad_sequences(X_train , padding='post' , maxlen = maxlen)\n",
    "X_test = pad_sequences(X_test , padding='post' , maxlen = maxlen)"
   ]
  },
  {
   "cell_type": "markdown",
   "metadata": {},
   "source": [
    "# Using GloVe Embeddings"
   ]
  },
  {
   "cell_type": "code",
   "execution_count": 13,
   "metadata": {},
   "outputs": [
    {
     "name": "stdout",
     "output_type": "stream",
     "text": [
      "GloVe file opened Successfully\n"
     ]
    }
   ],
   "source": [
    "embeddings_dictionary = dict()\n",
    "glove_file = open(\"glove.6B.100d.txt\", encoding=\"utf-8\")\n",
    "\n",
    "for line in glove_file:\n",
    "    records = line.split()\n",
    "    word = records[0]\n",
    "    vector_dimensions = asarray(records[1:], dtype='float32')\n",
    "    embeddings_dictionary [word] = vector_dimensions\n",
    "glove_file.close()\n",
    "print('GloVe file opened Successfully')"
   ]
  },
  {
   "cell_type": "code",
   "execution_count": 14,
   "metadata": {},
   "outputs": [],
   "source": [
    "embedding_matrix = np.zeros((vocab_size,100))\n",
    "for word, index in tokenizer.word_index.items():\n",
    "    embedding_vector = embeddings_dictionary.get(word)\n",
    "    if embedding_vector is not None:\n",
    "        embedding_matrix[index] = embedding_vector"
   ]
  },
  {
   "cell_type": "markdown",
   "metadata": {},
   "source": [
    "# Classification using Convolutional Neural Network"
   ]
  },
  {
   "cell_type": "code",
   "execution_count": 15,
   "metadata": {},
   "outputs": [],
   "source": [
    "cnn_model = Sequential()\n",
    "\n",
    "embedding_layer = Embedding(vocab_size , 100,weights=[embedding_matrix] , input_length=maxlen , trainable = False)\n",
    "cnn_model.add(embedding_layer)\n",
    "\n",
    "cnn_model.add(Conv1D(128, 5, activation='relu'))\n",
    "cnn_model.add(GlobalMaxPooling1D())\n",
    "cnn_model.add(Dense(1, activation='sigmoid'))\n",
    "cnn_model.compile(optimizer='adam', loss='binary_crossentropy', metrics=['acc'])"
   ]
  },
  {
   "cell_type": "code",
   "execution_count": 16,
   "metadata": {},
   "outputs": [
    {
     "name": "stdout",
     "output_type": "stream",
     "text": [
      "Model: \"sequential\"\n",
      "_________________________________________________________________\n",
      "Layer (type)                 Output Shape              Param #   \n",
      "=================================================================\n",
      "embedding (Embedding)        (None, 100, 100)          944900    \n",
      "_________________________________________________________________\n",
      "conv1d (Conv1D)              (None, 96, 128)           64128     \n",
      "_________________________________________________________________\n",
      "global_max_pooling1d (Global (None, 128)               0         \n",
      "_________________________________________________________________\n",
      "dense (Dense)                (None, 1)                 129       \n",
      "=================================================================\n",
      "Total params: 1,009,157\n",
      "Trainable params: 64,257\n",
      "Non-trainable params: 944,900\n",
      "_________________________________________________________________\n",
      "None\n"
     ]
    }
   ],
   "source": [
    "print(cnn_model.summary())"
   ]
  },
  {
   "cell_type": "code",
   "execution_count": 17,
   "metadata": {},
   "outputs": [
    {
     "name": "stdout",
     "output_type": "stream",
     "text": [
      "Epoch 1/6\n",
      "17/17 [==============================] - 2s 128ms/step - loss: 0.6589 - acc: 0.6296 - val_loss: 0.5323 - val_acc: 0.7308\n",
      "Epoch 2/6\n",
      "17/17 [==============================] - 1s 61ms/step - loss: 0.4846 - acc: 0.7746 - val_loss: 0.5175 - val_acc: 0.7346\n",
      "Epoch 3/6\n",
      "17/17 [==============================] - 1s 48ms/step - loss: 0.4290 - acc: 0.8102 - val_loss: 0.5149 - val_acc: 0.7365\n",
      "Epoch 4/6\n",
      "17/17 [==============================] - 1s 42ms/step - loss: 0.3849 - acc: 0.8516 - val_loss: 0.4881 - val_acc: 0.7577\n",
      "Epoch 5/6\n",
      "17/17 [==============================] - 1s 42ms/step - loss: 0.3427 - acc: 0.8858 - val_loss: 0.4861 - val_acc: 0.7654\n",
      "Epoch 6/6\n",
      "17/17 [==============================] - 1s 42ms/step - loss: 0.3076 - acc: 0.9104 - val_loss: 0.4784 - val_acc: 0.7635\n"
     ]
    }
   ],
   "source": [
    "history = cnn_model.fit(X_train,y_train,batch_size = 128,epochs=6,verbose=1,validation_split=0.2)"
   ]
  },
  {
   "cell_type": "code",
   "execution_count": 18,
   "metadata": {},
   "outputs": [
    {
     "name": "stdout",
     "output_type": "stream",
     "text": [
      "21/21 [==============================] - 0s 6ms/step - loss: 0.4813 - acc: 0.7550\n"
     ]
    }
   ],
   "source": [
    "score = cnn_model.evaluate(X_test ,y_test , verbose =1)"
   ]
  },
  {
   "cell_type": "code",
   "execution_count": 19,
   "metadata": {},
   "outputs": [
    {
     "name": "stdout",
     "output_type": "stream",
     "text": [
      "Test Score: 0.4813041090965271\n",
      "Test Accuracy: 0.7550076842308044\n"
     ]
    }
   ],
   "source": [
    "print(\"Test Score:\", score[0])\n",
    "print(\"Test Accuracy:\", score[1])"
   ]
  },
  {
   "cell_type": "code",
   "execution_count": 20,
   "metadata": {},
   "outputs": [
    {
     "data": {
      "image/png": "[encoded data removed]",
      "text/plain": [
       "<Figure size 432x288 with 1 Axes>"
      ]
     },
     "metadata": {
      "needs_background": "light"
     },
     "output_type": "display_data"
    },
    {
     "data": {
      "image/png": "[encoded data removed]",
      "text/plain": [
       "<Figure size 432x288 with 1 Axes>"
      ]
     },
     "metadata": {
      "needs_background": "light"
     },
     "output_type": "display_data"
    }
   ],
   "source": [
    "plt.plot(history.history['acc'])\n",
    "plt.plot(history.history['val_acc'])\n",
    "\n",
    "plt.title('model accuracy')\n",
    "plt.ylabel('accuracy')\n",
    "plt.xlabel('epoch')\n",
    "plt.legend(['train','test'], loc = 'upper left')\n",
    "plt.show()\n",
    "\n",
    "plt.plot(history.history['loss'])\n",
    "plt.plot(history.history['val_loss'])\n",
    "\n",
    "plt.title('model loss')\n",
    "plt.ylabel('loss')\n",
    "plt.xlabel('epoch')\n",
    "plt.legend(['train','test'], loc = 'upper left')\n",
    "plt.show()"
   ]
  },
  {
   "cell_type": "code",
   "execution_count": 43,
   "metadata": {},
   "outputs": [
    {
     "name": "stdout",
     "output_type": "stream",
     "text": [
      "In its mouthpiece Saamana Shiv Sena said Congress Rahul Gandhi has created model code of conduct on how opposition should behave when the country is in crisis Rahul recognised the coronavirus threat in advance warned the government to take necessary steps it added Sena further said that the thoughts expressed by Rahul are like brainstorming session for the government \n"
     ]
    }
   ],
   "source": [
    "tweet = descript[658]\n",
    "print(tweet)"
   ]
  },
  {
   "cell_type": "code",
   "execution_count": 44,
   "metadata": {},
   "outputs": [
    {
     "data": {
      "text/plain": [
       "array([[0.6036631]], dtype=float32)"
      ]
     },
     "execution_count": 44,
     "metadata": {},
     "output_type": "execute_result"
    }
   ],
   "source": [
    "tweet = tokenizer.texts_to_sequences(tweet)\n",
    "\n",
    "flat_list = []\n",
    "for sublist in tweet:\n",
    "    for item in sublist:\n",
    "        flat_list.append(item)\n",
    "\n",
    "flat_list = [flat_list]\n",
    "\n",
    "tweet = pad_sequences(flat_list, padding='post', maxlen=maxlen)\n",
    "cnn_model.predict(tweet)"
   ]
  },
  {
   "cell_type": "markdown",
   "metadata": {},
   "source": [
    "# LSTM"
   ]
  },
  {
   "cell_type": "code",
   "execution_count": 65,
   "metadata": {},
   "outputs": [],
   "source": [
    "lstm_model = Sequential()\n",
    "\n",
    "embedding_layer = Embedding(vocab_size, 100, weights=[embedding_matrix], input_length=maxlen , trainable=False)\n",
    "lstm_model.add(embedding_layer)\n",
    "lstm_model.add(LSTM(128,return_sequences=True,dropout=0.33))\n",
    "lstm_model.add(Dense(64,activation = 'relu'))\n",
    "lstm_model.add(Dense(1,activation='sigmoid'))\n",
    "lstm_model.compile(optimizer = 'adam' , loss='binary_crossentropy' , metrics =['acc'])"
   ]
  },
  {
   "cell_type": "code",
   "execution_count": 66,
   "metadata": {},
   "outputs": [
    {
     "name": "stdout",
     "output_type": "stream",
     "text": [
      "WARNING:tensorflow:`period` argument is deprecated. Please use `save_freq` to specify the frequency in number of batches seen.\n"
     ]
    }
   ],
   "source": [
    "checkpoint1 = ModelCheckpoint(\"best_model1.hdf5\", monitor='val_accuracy', verbose=1,save_best_only=True,\n",
    "                              mode='auto', period=1,save_weights_only=False)"
   ]
  },
  {
   "cell_type": "code",
   "execution_count": 67,
   "metadata": {},
   "outputs": [
    {
     "name": "stdout",
     "output_type": "stream",
     "text": [
      "Model: \"sequential_4\"\n",
      "_________________________________________________________________\n",
      "Layer (type)                 Output Shape              Param #   \n",
      "=================================================================\n",
      "embedding_4 (Embedding)      (None, 100, 100)          944900    \n",
      "_________________________________________________________________\n",
      "lstm_3 (LSTM)                (None, 100, 128)          117248    \n",
      "_________________________________________________________________\n",
      "dense_7 (Dense)              (None, 100, 64)           8256      \n",
      "_________________________________________________________________\n",
      "dense_8 (Dense)              (None, 100, 1)            65        \n",
      "=================================================================\n",
      "Total params: 1,070,469\n",
      "Trainable params: 125,569\n",
      "Non-trainable params: 944,900\n",
      "_________________________________________________________________\n",
      "None\n"
     ]
    }
   ],
   "source": [
    "print(lstm_model.summary())"
   ]
  },
  {
   "cell_type": "code",
   "execution_count": 68,
   "metadata": {},
   "outputs": [
    {
     "name": "stdout",
     "output_type": "stream",
     "text": [
      "Epoch 1/8\n",
      "17/17 [==============================] - ETA: 0s - loss: 0.6610 - acc: 0.6172WARNING:tensorflow:Can save best model only with val_accuracy available, skipping.\n",
      "17/17 [==============================] - 7s 429ms/step - loss: 0.6610 - acc: 0.6172 - val_loss: 0.6007 - val_acc: 0.6762\n",
      "Epoch 2/8\n",
      "17/17 [==============================] - ETA: 0s - loss: 0.5861 - acc: 0.6657WARNING:tensorflow:Can save best model only with val_accuracy available, skipping.\n",
      "17/17 [==============================] - 7s 384ms/step - loss: 0.5861 - acc: 0.6657 - val_loss: 0.5761 - val_acc: 0.6472\n",
      "Epoch 3/8\n",
      "17/17 [==============================] - ETA: 0s - loss: 0.5651 - acc: 0.6996WARNING:tensorflow:Can save best model only with val_accuracy available, skipping.\n",
      "17/17 [==============================] - 5s 315ms/step - loss: 0.5651 - acc: 0.6996 - val_loss: 0.5832 - val_acc: 0.6658\n",
      "Epoch 4/8\n",
      "17/17 [==============================] - ETA: 0s - loss: 0.5602 - acc: 0.7024WARNING:tensorflow:Can save best model only with val_accuracy available, skipping.\n",
      "17/17 [==============================] - 6s 355ms/step - loss: 0.5602 - acc: 0.7024 - val_loss: 0.5721 - val_acc: 0.6827\n",
      "Epoch 5/8\n",
      "17/17 [==============================] - ETA: 0s - loss: 0.5428 - acc: 0.7142WARNING:tensorflow:Can save best model only with val_accuracy available, skipping.\n",
      "17/17 [==============================] - 6s 381ms/step - loss: 0.5428 - acc: 0.7142 - val_loss: 0.5468 - val_acc: 0.7347\n",
      "Epoch 6/8\n",
      "17/17 [==============================] - ETA: 0s - loss: 0.5356 - acc: 0.7273WARNING:tensorflow:Can save best model only with val_accuracy available, skipping.\n",
      "17/17 [==============================] - 7s 410ms/step - loss: 0.5356 - acc: 0.7273 - val_loss: 0.5329 - val_acc: 0.7371\n",
      "Epoch 7/8\n",
      "17/17 [==============================] - ETA: 0s - loss: 0.5075 - acc: 0.7501WARNING:tensorflow:Can save best model only with val_accuracy available, skipping.\n",
      "17/17 [==============================] - 6s 348ms/step - loss: 0.5075 - acc: 0.7501 - val_loss: 0.5136 - val_acc: 0.7516\n",
      "Epoch 8/8\n",
      "17/17 [==============================] - ETA: 0s - loss: 0.5123 - acc: 0.7476WARNING:tensorflow:Can save best model only with val_accuracy available, skipping.\n",
      "17/17 [==============================] - 6s 361ms/step - loss: 0.5123 - acc: 0.7476 - val_loss: 0.5210 - val_acc: 0.7454\n"
     ]
    }
   ],
   "source": [
    "history = lstm_model.fit(X_train, y_train, batch_size=128, epochs=8, verbose=1, validation_split=0.2,\n",
    "                        callbacks = checkpoint1)"
   ]
  },
  {
   "cell_type": "code",
   "execution_count": 69,
   "metadata": {},
   "outputs": [
    {
     "name": "stdout",
     "output_type": "stream",
     "text": [
      "21/21 [==============================] - 2s 93ms/step - loss: 0.4904 - acc: 0.7645: 1s - loss: 0.53\n"
     ]
    }
   ],
   "source": [
    "lstm_score = lstm_model.evaluate(X_test, y_test, verbose=1)"
   ]
  },
  {
   "cell_type": "code",
   "execution_count": 70,
   "metadata": {},
   "outputs": [
    {
     "name": "stdout",
     "output_type": "stream",
     "text": [
      "Test Score: 0.49036261439323425\n",
      "Test Accuracy: 0.7644529938697815\n"
     ]
    }
   ],
   "source": [
    "print(\"Test Score:\", lstm_score[0])\n",
    "print(\"Test Accuracy:\", lstm_score[1])"
   ]
  },
  {
   "cell_type": "code",
   "execution_count": 71,
   "metadata": {},
   "outputs": [
    {
     "data": {
      "image/png": "[encoded data removed]",
      "text/plain": [
       "<Figure size 432x288 with 1 Axes>"
      ]
     },
     "metadata": {
      "needs_background": "light"
     },
     "output_type": "display_data"
    },
    {
     "data": {
      "image/png": "[encoded data removed]",
      "text/plain": [
       "<Figure size 432x288 with 1 Axes>"
      ]
     },
     "metadata": {
      "needs_background": "light"
     },
     "output_type": "display_data"
    }
   ],
   "source": [
    "plt.plot(history.history['acc'])\n",
    "plt.plot(history.history['val_acc'])\n",
    "\n",
    "plt.title('model accuracy')\n",
    "plt.ylabel('accuracy')\n",
    "plt.xlabel('epoch')\n",
    "plt.legend(['train','test'], loc='upper left')\n",
    "plt.show()\n",
    "\n",
    "plt.plot(history.history['loss'])\n",
    "plt.plot(history.history['val_loss'])\n",
    "\n",
    "plt.title('model loss')\n",
    "plt.ylabel('loss')\n",
    "plt.xlabel('epoch')\n",
    "plt.legend(['train','test'], loc='upper left')\n",
    "plt.show()"
   ]
  },
  {
   "cell_type": "markdown",
   "metadata": {},
   "source": [
    "# Making Predictions using LSTM Model"
   ]
  },
  {
   "cell_type": "code",
   "execution_count": 72,
   "metadata": {},
   "outputs": [
    {
     "name": "stdout",
     "output_type": "stream",
     "text": [
      "In Jharkhand West Singhbhum district robots will serve food and give medicine to COVID patients at two hospitals in order to protect doctors and health workers from getting the virus The remote controlled COBOT Robotics is developed by District Deputy Development Commissioner Aditya Ranjan and will provide food and medicine to patients without human intervention \n"
     ]
    }
   ],
   "source": [
    "tweett = descript[789]\n",
    "print(tweett)"
   ]
  },
  {
   "cell_type": "code",
   "execution_count": 73,
   "metadata": {},
   "outputs": [
    {
     "name": "stdout",
     "output_type": "stream",
     "text": [
      "WARNING:tensorflow:5 out of the last 11 calls to <function Model.make_predict_function.<locals>.predict_function at 0x7f17084baa60> triggered tf.function retracing. Tracing is expensive and the excessive number of tracings could be due to (1) creating @tf.function repeatedly in a loop, (2) passing tensors with different shapes, (3) passing Python objects instead of tensors. For (1), please define your @tf.function outside of the loop. For (2), @tf.function has experimental_relax_shapes=True option that relaxes argument shapes that can avoid unnecessary retracing. For (3), please refer to https://www.tensorflow.org/tutorials/customization/performance#python_or_tensor_args and https://www.tensorflow.org/api_docs/python/tf/function for  more details.\n"
     ]
    }
   ],
   "source": [
    "tweett = tokenizer.texts_to_sequences(tweett)\n",
    "\n",
    "flatt_list = []\n",
    "for sublistt in tweett:\n",
    "    for itemm in sublistt:\n",
    "        flatt_list.append(itemm)\n",
    "        \n",
    "flatt_list = [flatt_list]\n",
    "\n",
    "tweett = pad_sequences(flatt_list, padding='post', maxlen=maxlen)\n",
    "result = lstm_model.predict(tweett)\n",
    "pos = np.argmax(result)"
   ]
  },
  {
   "cell_type": "code",
   "execution_count": 74,
   "metadata": {},
   "outputs": [
    {
     "name": "stdout",
     "output_type": "stream",
     "text": [
      "[0.67569464]\n"
     ]
    }
   ],
   "source": [
    "print(result[0][pos])"
   ]
  },
  {
   "cell_type": "code",
   "execution_count": null,
   "metadata": {},
   "outputs": [],
   "source": []
  },
  {
   "cell_type": "code",
   "execution_count": null,
   "metadata": {},
   "outputs": [],
   "source": []
  }
 ],
 "metadata": {
  "kernelspec": {
   "display_name": "Python 3",
   "language": "python",
   "name": "python3"
  },
  "language_info": {
   "codemirror_mode": {
    "name": "ipython",
    "version": 3
   },
   "file_extension": ".py",
   "mimetype": "text/x-python",
   "name": "python",
   "nbconvert_exporter": "python",
   "pygments_lexer": "ipython3",
   "version": "3.6.9"
  }
 },
 "nbformat": 4,
 "nbformat_minor": 4
}
